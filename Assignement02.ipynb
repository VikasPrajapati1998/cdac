{
 "cells": [
  {
   "cell_type": "markdown",
   "id": "6b03ce11-24dd-4e5e-8760-a56c4959342c",
   "metadata": {},
   "source": [
    "# Assignment 02"
   ]
  },
  {
   "cell_type": "markdown",
   "id": "8c08b464-aa63-4b7c-a383-ae303a3a131c",
   "metadata": {},
   "source": [
    "### Assignment 2.1\n",
    "WAP to check whether a sentence is a pangram or not. A pangram is a sentence that contains all the letters of the English alphabet at least once.\n",
    "Example = The quick brown fox jumps over the lazy dog."
   ]
  },
  {
   "cell_type": "code",
   "execution_count": 21,
   "id": "970c75d4-ba74-40d7-a80d-4dbeaa1ffa2d",
   "metadata": {
    "tags": []
   },
   "outputs": [
    {
     "name": "stdin",
     "output_type": "stream",
     "text": [
      "Enter a sentence :  The quick brown fox jumps over the lazy dog.\n"
     ]
    },
    {
     "name": "stdout",
     "output_type": "stream",
     "text": [
      "Pangram\n"
     ]
    }
   ],
   "source": [
    "eng_alpha = \"abcdefghijklmnopqrstuvwxyz\"\n",
    "sentence = input(\"Enter a sentence : \").lower()\n",
    "for x in eng_alpha:\n",
    "    if x not in sentence:\n",
    "        print(\"Not Pangram\")\n",
    "        break\n",
    "else:\n",
    "    print(\"Pangram\")\n"
   ]
  },
  {
   "cell_type": "markdown",
   "id": "59caa18f-345f-4b81-9331-7b3eef6acba9",
   "metadata": {},
   "source": [
    "### Assignment 2.2\n",
    "Given a dictionary of students and their favorite colors:\n",
    "\n",
    "people= {'Arham':'Blue',\n",
    "'Lisa':'Yellow',\n",
    "'Vinod':'Purple',\n",
    "'Jenny':'Pink'}\n",
    "i. Find out how many students are in the dictionary.\n",
    "ii. Change Lisa’s favorite colour.\n",
    "iii. Remove 'Jenny' and her favourite colour."
   ]
  },
  {
   "cell_type": "code",
   "execution_count": 28,
   "id": "b9b5b720-de22-4709-919f-6b5f405928d6",
   "metadata": {
    "tags": []
   },
   "outputs": [
    {
     "name": "stdout",
     "output_type": "stream",
     "text": [
      "i. Number of students :  4\n",
      "ii. Change Lisa's favorite color :  {'Arham': 'Blue', 'Lisa': 'Red', 'Vinod': 'Purple', 'Jenny': 'Pink'}\n",
      "ii. Remove 'Jenny' and her favourite colour :  {'Arham': 'Blue', 'Lisa': 'Red', 'Vinod': 'Purple'}\n"
     ]
    }
   ],
   "source": [
    "people = {'Arham':'Blue', 'Lisa':'Yellow', 'Vinod':'Purple', 'Jenny':'Pink'}\n",
    "print(\"i. Number of students : \", len(people))\n",
    "people['Lisa'] = 'Red'\n",
    "print(\"ii. Change Lisa's favorite color : \", people)\n",
    "del(people['Jenny'])\n",
    "print(\"ii. Remove 'Jenny' and her favourite colour : \", people)\n"
   ]
  },
  {
   "cell_type": "markdown",
   "id": "18babc0d-c716-4b77-b273-e664090cb904",
   "metadata": {},
   "source": [
    "### Assignment 2.3\n",
    "A website requires the users to input username and password to register. Write a\n",
    "program to check the validity of password input by users. Following are the\n",
    "criteria for checking the password:\n",
    "\n",
    "i. At least 1 letter between [a-z]\n",
    "ii. At least 1 number between [0-9]\n",
    "iii. At least 1 letter between [A-Z]\n",
    "iv. At least 1 character from [$#@]\n",
    "v. Minimum length of transaction password: 6\n",
    "vi. Maximum length of transaction password: 12\n",
    "vii. No white spaces anywhere in the password.\n",
    "\n",
    "Your program should accept 5 comma separated passwords in one string and will check\n",
    "them according to the above criteria. Passwords that match the criteria are to be printed\n",
    "on screen."
   ]
  },
  {
   "cell_type": "code",
   "execution_count": 1,
   "id": "edcb1b0a-5fe5-4d62-a1c4-eb16276ef1cd",
   "metadata": {
    "tags": []
   },
   "outputs": [
    {
     "name": "stdin",
     "output_type": "stream",
     "text": [
      "Enter 5 password :  Rohan@1213, arjun1223, sanu,34322,Passwd@1234,Egfddd$543\n"
     ]
    },
    {
     "name": "stdout",
     "output_type": "stream",
     "text": [
      "Password Valid\n",
      "Invalid Password\n",
      "Invalid Password Size\n",
      "Invalid Password Size\n",
      "Password Valid\n",
      "Password Valid\n"
     ]
    }
   ],
   "source": [
    "lower_str = \"abcdefghijklmnopqrstuvwxyz\"\n",
    "upper_str = \"ABCDEFGHIJKLMNOPQRSTUVWXYZ\"\n",
    "number_str = \"0123456789\"\n",
    "special_str = \"$#@\"\n",
    "\n",
    "password = input(\"Enter 5 password : \")\n",
    "password = password.split(\",\")\n",
    "password = [x.strip() for x in password]\n",
    "\n",
    "for psd in password:\n",
    "    if len(psd)>6 and len(psd)<12 : \n",
    "        flag=0\n",
    "        turn=0\n",
    "        # checking any external letter\n",
    "        # ------------------------------------------------\n",
    "        for l in psd:\n",
    "            if l in lower_str:\n",
    "                flag=1\n",
    "            elif l in upper_str:\n",
    "                flag=1\n",
    "            elif l in number_str:\n",
    "                flag=1\n",
    "            elif l in special_str:\n",
    "                flag=1\n",
    "            else:\n",
    "                flag=0\n",
    "        \n",
    "        # atleast once present\n",
    "        # ------------------------------------------------\n",
    "        for ls in lower_str:\n",
    "            if ls in psd:\n",
    "                turn=1\n",
    "                break\n",
    "        else:\n",
    "            turn=0\n",
    "        if turn==0:\n",
    "            print(psd, \" : \", \"Invalid Password\")\n",
    "            continue\n",
    "        \n",
    "        for us in upper_str:\n",
    "            if us in psd:\n",
    "                turn=1\n",
    "                break\n",
    "        else:\n",
    "            turn=0\n",
    "        if turn==0:\n",
    "            print(psd, \" : \", \"Invalid Password\")\n",
    "            continue\n",
    "        \n",
    "        for ns in number_str:\n",
    "            if ns in psd:\n",
    "                turn=1\n",
    "                break\n",
    "        else:\n",
    "            turn=0\n",
    "        if turn==0:\n",
    "            print(psd, \" : \", \"Invalid Password\")\n",
    "            continue\n",
    "        \n",
    "        for ss in special_str:\n",
    "            if ss in psd:\n",
    "                turn=1\n",
    "                break\n",
    "        else:\n",
    "            turn=0\n",
    "        if turn==0:\n",
    "            print(psd, \" : \", \"Invalid Password\")\n",
    "            continue\n",
    "        # --------------------------------------------------\n",
    "        \n",
    "        # check value flag and ture\n",
    "        if flag==1 and turn==1:\n",
    "            print(psd, \" : \", \"Password Valid\")\n",
    "        else:\n",
    "            print(psd, \" : \", \"Invalid Password\")\n",
    "        \n",
    "                \n",
    "    else:\n",
    "        print(psd, \" : \", Invalid Password Size\")\n"
   ]
  },
  {
   "cell_type": "code",
   "execution_count": null,
   "id": "823167d0-8276-483b-b431-0742f64938a2",
   "metadata": {},
   "outputs": [],
   "source": []
  }
 ],
 "metadata": {
  "kernelspec": {
   "display_name": "Python 3 (ipykernel)",
   "language": "python",
   "name": "python3"
  },
  "language_info": {
   "codemirror_mode": {
    "name": "ipython",
    "version": 3
   },
   "file_extension": ".py",
   "mimetype": "text/x-python",
   "name": "python",
   "nbconvert_exporter": "python",
   "pygments_lexer": "ipython3",
   "version": "3.9.16"
  }
 },
 "nbformat": 4,
 "nbformat_minor": 5
}
