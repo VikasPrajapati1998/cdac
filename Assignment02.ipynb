{
 "cells": [
  {
   "cell_type": "markdown",
   "metadata": {
    "id": "mdFwFWGCXqE1"
   },
   "source": [
    "# Assignment 2\n",
    "## Vikas Prajapati"
   ]
  },
  {
   "cell_type": "markdown",
   "metadata": {
    "id": "F8AReI3p-1aN"
   },
   "source": [
    "### Assignment 2.1\n",
    "\n",
    "WAP to check whether a sentence is a pangram or not. A pangram is a sentence that contains all the letters of the English alphabet at least once. Example = The quick brown fox jumps over the lazy dog.\n"
   ]
  },
  {
   "cell_type": "code",
   "execution_count": null,
   "metadata": {
    "colab": {
     "base_uri": "https://localhost:8080/"
    },
    "id": "QbfHMU0xAJmn",
    "outputId": "d205204e-f56a-4f1a-fca4-2827ec9b7129"
   },
   "outputs": [
    {
     "name": "stdout",
     "output_type": "stream",
     "text": [
      "Enter a sentence : a quick brown bird\n",
      "Not Pangram\n"
     ]
    }
   ],
   "source": [
    "eng_alpha = \"abcdefghijklmnopqrstuvwxyz\"\n",
    "sentence = input(\"Enter a sentence : \").lower()\n",
    "for x in eng_alpha:\n",
    "    if x not in sentence:\n",
    "        print(\"Not Pangram\")\n",
    "        break\n",
    "else:\n",
    "    print(\"Pangram\")\n",
    "\n",
    "__author__      = \"Vikas Prajapati\"\n",
    "__copyright__   = \"Copyright 2023, CDAC-PGDBDA, Bangalore\""
   ]
  },
  {
   "cell_type": "markdown",
   "metadata": {
    "id": "czX0oCj3AX9X"
   },
   "source": [
    "### Assignment 2.2\n",
    "\n",
    "Given a dictionary of students and their favorite colors:\n",
    "\n",
    "people= {'Arham':'Blue', 'Lisa':'Yellow', 'Vinod':'Purple', 'Jenny':'Pink'} i. Find out how many students are in the dictionary. ii. Change Lisa’s favorite colour. iii. Remove 'Jenny' and her favourite colour.\n"
   ]
  },
  {
   "cell_type": "code",
   "execution_count": null,
   "metadata": {
    "colab": {
     "base_uri": "https://localhost:8080/"
    },
    "id": "SbySXdTLAgc3",
    "outputId": "d78224bf-e79b-40bd-9312-30d0148a8f58"
   },
   "outputs": [
    {
     "name": "stdout",
     "output_type": "stream",
     "text": [
      "i. Number of students :  4\n",
      "ii. Change Lisa's favorite color :  {'Arham': 'Blue', 'Lisa': 'Red', 'Vinod': 'Purple', 'Jenny': 'Pink'}\n",
      "ii. Remove 'Jenny' and her favourite colour :  {'Arham': 'Blue', 'Lisa': 'Red', 'Vinod': 'Purple'}\n"
     ]
    }
   ],
   "source": [
    "people = {'Arham':'Blue', 'Lisa':'Yellow', 'Vinod':'Purple', 'Jenny':'Pink'}\n",
    "print(\"i. Number of students : \", len(people))\n",
    "people['Lisa'] = 'Red'\n",
    "print(\"ii. Change Lisa's favorite color : \", people)\n",
    "del(people['Jenny'])\n",
    "print(\"ii. Remove 'Jenny' and her favourite colour : \", people)\n",
    "\n",
    "\n",
    "__author__      = \"Vikas Prajapati\"\n",
    "__copyright__   = \"Copyright 2023, CDAC-PGDBDA, Bangalore\""
   ]
  },
  {
   "cell_type": "markdown",
   "metadata": {
    "id": "iQBTtnOdAml_"
   },
   "source": [
    "### Assignment 2.3\n",
    "\n",
    "<!-- # A website requires the users to input username and password to register. Write a program to check the validity of password input by users. Following are the criteria for checking the password:\n",
    "\n",
    "# i. At least 1 letter between [a-z] ii. At least 1 number between [0-9] iii. At least 1 letter between [A-Z] iv. At least 1 character from [$#@] v. Minimum length of transaction password: 6 vi. Maximum length of transaction password: 12 vii. No white spaces anywhere in the password.\n",
    "\n",
    "# Your program should accept 5 comma separated passwords in one string and will check them according to the above criteria. Passwords that match the criteria are to be printed on screen. -->\n"
   ]
  },
  {
   "cell_type": "code",
   "execution_count": null,
   "metadata": {
    "colab": {
     "base_uri": "https://localhost:8080/"
    },
    "id": "58V7jOOdAu2I",
    "outputId": "97279bec-9e18-4a85-c3b9-9275d94c104a"
   },
   "outputs": [
    {
     "name": "stdout",
     "output_type": "stream",
     "text": [
      "Enter 5 password : Arjun2345, viks 345 #, akash\n",
      "Arjun2345  :  Invalid Password\n",
      "viks 345 #  :  Invalid Password\n",
      "akash  :  Invalid Password Size\n"
     ]
    }
   ],
   "source": [
    "lower_str = \"abcdefghijklmnopqrstuvwxyz\"\n",
    "upper_str = \"ABCDEFGHIJKLMNOPQRSTUVWXYZ\"\n",
    "number_str = \"0123456789\"\n",
    "special_str = \"$#@\"\n",
    "\n",
    "password = input(\"Enter 5 password : \")\n",
    "password = password.split(\",\")\n",
    "password = [x.strip() for x in password]\n",
    "\n",
    "for psd in password:\n",
    "    if len(psd)>=6 and len(psd)<=12 : \n",
    "        flag=0 # to check wheather password's char present in strs\n",
    "        turn=0 # tp check wheather atleast one char of str present in password\n",
    "        # checking any external letter\n",
    "        # ------------------------------------------------\n",
    "        for l in psd:\n",
    "            if l in lower_str:\n",
    "                flag=1\n",
    "            elif l in upper_str:\n",
    "                flag=1\n",
    "            elif l in number_str:\n",
    "                flag=1\n",
    "            elif l in special_str:\n",
    "                flag=1\n",
    "            else:\n",
    "                flag=0\n",
    "        \n",
    "        # atleast once present\n",
    "        # ------------------------------------------------\n",
    "        for ls in lower_str:\n",
    "            if ls in psd:\n",
    "                turn=1\n",
    "                break\n",
    "        else:\n",
    "            turn=0\n",
    "        if turn==0:\n",
    "            print(psd, \" : \", \"Invalid Password\")\n",
    "            continue\n",
    "        \n",
    "        for us in upper_str:\n",
    "            if us in psd:\n",
    "                turn=1\n",
    "                break\n",
    "        else:\n",
    "            turn=0\n",
    "        if turn==0:\n",
    "            print(psd, \" : \", \"Invalid Password\")\n",
    "            continue\n",
    "        \n",
    "        for ns in number_str:\n",
    "            if ns in psd:\n",
    "                turn=1\n",
    "                break\n",
    "        else:\n",
    "            turn=0\n",
    "        if turn==0:\n",
    "            print(psd, \" : \", \"Invalid Password\")\n",
    "            continue\n",
    "        \n",
    "        for ss in special_str:\n",
    "            if ss in psd:\n",
    "                turn=1\n",
    "                break\n",
    "        else:\n",
    "            turn=0\n",
    "        if turn==0:\n",
    "            print(psd, \" : \", \"Invalid Password\")\n",
    "            continue\n",
    "        # --------------------------------------------------\n",
    "        \n",
    "        # check value flag and ture\n",
    "        if flag==1 and turn==1:\n",
    "            print(psd, \" : \", \"Password Valid\")\n",
    "        else:\n",
    "            print(psd, \" : \", \"Invalid Password\")\n",
    "                \n",
    "    else:\n",
    "        print(psd, \" : \", \"Invalid Password Size\")\n",
    "\n",
    "\n",
    "\n",
    "__author__      = \"Vikas Prajapati\"\n",
    "__copyright__   = \"Copyright 2023, CDAC-PGDBDA, Bangalore\""
   ]
  },
  {
   "cell_type": "markdown",
   "metadata": {
    "id": "-s6Q7K-t-vTE"
   },
   "source": [
    "### Assignment 2.4\n",
    "Write a program that takes a string as input and builds a frequency listing of the characters contained in it.\n",
    "Represent the frequency listing as a Python dictionary. -->"
   ]
  },
  {
   "cell_type": "code",
   "execution_count": null,
   "metadata": {
    "colab": {
     "base_uri": "https://localhost:8080/"
    },
    "id": "Ep1Jt5Pur2gI",
    "outputId": "8fec4fc2-6f8e-42ca-9c71-b205a9d5fbd0"
   },
   "outputs": [
    {
     "name": "stdout",
     "output_type": "stream",
     "text": [
      "Enter a String : Liger\n",
      "{'L': 1, 'i': 1, 'g': 1, 'e': 1, 'r': 1}\n"
     ]
    }
   ],
   "source": [
    "string = [x for x in input(\"Enter a String : \")]\n",
    "d = {}\n",
    "for i in string:\n",
    "  n = string.count(i);\n",
    "  d[i]=n\n",
    "print(d)\n",
    "\n",
    "__author__      = \"Vikas Prajapati\"\n",
    "__copyright__   = \"Copyright 2023, CDAC-PGDBDA, Bangalore\""
   ]
  },
  {
   "cell_type": "markdown",
   "metadata": {
    "id": "ruzbI-pkv3Rq"
   },
   "source": [
    "# Functions"
   ]
  },
  {
   "cell_type": "markdown",
   "metadata": {
    "id": "AwE-lUwrv8Qv"
   },
   "source": [
    "### Assignment 2.5\n",
    "Define a function overlapping() that takes two lists and returns True if they have at least one memeber in commaon, False otherwise."
   ]
  },
  {
   "cell_type": "code",
   "execution_count": null,
   "metadata": {
    "colab": {
     "base_uri": "https://localhost:8080/"
    },
    "id": "Klz_UpaawN_B",
    "outputId": "42249d63-0dd3-41b5-a6ba-902773eba0a8"
   },
   "outputs": [
    {
     "name": "stdout",
     "output_type": "stream",
     "text": [
      "Enter a string : white, black, red\n",
      "Enter a string : green, red\n",
      "['white', 'black', 'red']\n",
      "['green', 'red']\n",
      "True\n"
     ]
    }
   ],
   "source": [
    "from re import L\n",
    "def overlapping(l1:list, l2:list)->bool:\n",
    "  '''\n",
    "  This function take two list and return a boolean value. It will comapare both list elements.\n",
    "  if list1 data is present in list2 then it will return True else return False.\n",
    "\n",
    "  Args:\n",
    "    list1 (str) : First List.\n",
    "    list2 (str) : Second List.\n",
    "\n",
    "  Returns:\n",
    "    if (list1 element present in list2) :\n",
    "      return True\n",
    "    else:\n",
    "      return False\n",
    "  Raises:\n",
    "    AnyError : If anything bad happen.\n",
    "  '''\n",
    "  count=0\n",
    "  for x in l1:\n",
    "    for y in l2:\n",
    "      if x==y :\n",
    "        return True\n",
    "  else:\n",
    "    return False\n",
    "\n",
    "\n",
    "def main():\n",
    "  '''\n",
    "  This is the main function and program start execution from here.\n",
    "  '''\n",
    "  lst1 = [x.strip() for x in input(\"Enter a string : \").split(\",\")]\n",
    "  lst2 = [x.strip() for x in input(\"Enter a string : \").split(\", \")]\n",
    "  print(lst1)\n",
    "  print(lst2)\n",
    "\n",
    "  b = overlapping(lst1, lst2)\n",
    "  print(b)\n",
    "\n",
    "main()\n",
    "\n",
    "\n",
    "__author__      = \"Vikas Prajapati\"\n",
    "__copyright__   = \"Copyright 2023, CDAC-PGDBDA, Bangalore\""
   ]
  },
  {
   "cell_type": "markdown",
   "metadata": {
    "id": "jiNvsu4Zxosd"
   },
   "source": [
    "### Assignment 2.6\n",
    "Write a function called nested_sum() that takes a nested list of integers and adds up the elements from all the lists and returns the sum."
   ]
  },
  {
   "cell_type": "code",
   "execution_count": null,
   "metadata": {
    "colab": {
     "base_uri": "https://localhost:8080/"
    },
    "id": "IliXqcK8C9kP",
    "outputId": "6d0dc1f6-6d41-4a9b-a2fb-f044d5db89b4"
   },
   "outputs": [
    {
     "name": "stdout",
     "output_type": "stream",
     "text": [
      "[1, 2, 3, 4, [2, 4, 6, 8]]\n",
      "Sum of list is  30\n"
     ]
    }
   ],
   "source": [
    "def nested_sum(lst:list)->list:\n",
    "  '''\n",
    "  Add all the elements of sublist into list.\n",
    "  Args:\n",
    "    lst (list) : list of int or float\n",
    "  Returns:\n",
    "    sum (float) : sum all the value of list\n",
    "  Raises:\n",
    "    NameError: name 'a' is not defined\n",
    "    TypeError: unsupported operand type(s) for +: 'int' and 'str'\n",
    "    AnyError: If anything bad happen.\n",
    "  '''\n",
    "  dummy_list = []\n",
    "  for l in lst:\n",
    "    if type(l) == list:\n",
    "      for i in l:\n",
    "        dummy_list.append(i)\n",
    "    else:\n",
    "      dummy_list.append(l)\n",
    "  \n",
    "  return(sum(dummy_list))\n",
    "\n",
    "def main():\n",
    "  '''\n",
    "  Program execution start from this function\n",
    "  This function is consider as a main function like other programms.\n",
    "  '''\n",
    "  lst1 = [1, 2, 3, 4]\n",
    "  lst2 = [x for x in range(2, 10, 2)]\n",
    "  lst = [*lst1, lst2]\n",
    "  print(lst)\n",
    "  result_list = nested_sum(lst)\n",
    "  print(\"Sum of list is \", result_list)\n",
    "\n",
    "main()\n",
    "\n",
    "\n",
    "__author__      = \"Vikas Prajapati\"\n",
    "__copyright__   = \"Copyright 2023, CDAC-PGDBDA, Bangalore\""
   ]
  },
  {
   "cell_type": "markdown",
   "metadata": {
    "id": "R9I5am0pGOjF"
   },
   "source": [
    "### Assignment 2.7\n",
    "Write a function adder() which accepts a random number of arguments of any data type(int, float, boolen, string) and returns the sum of all\n",
    "the int and float values in it.\n",
    "For eg: adder(1, 2, True, 9, \"mango\", 5.0) should return 17.0 -->"
   ]
  },
  {
   "cell_type": "code",
   "execution_count": 15,
   "metadata": {
    "colab": {
     "base_uri": "https://localhost:8080/"
    },
    "id": "197Bth3vTuyW",
    "outputId": "17a57b7b-4cd2-4ce8-9ccf-1aabae4930d5",
    "tags": []
   },
   "outputs": [
    {
     "name": "stdout",
     "output_type": "stream",
     "text": [
      "Sum  =  17.0\n"
     ]
    }
   ],
   "source": [
    "def adder(*args:int or float or bool or str)->float:\n",
    "  '''\n",
    "  Add all the int and float values.\n",
    "  Args:\n",
    "    *args (int or float or str or bool) : Tuple\n",
    "  Returns:\n",
    "    sum (float) : sum all the int and float values of Tuple\n",
    "  Raises:\n",
    "    AnyError : If anything bad happens.\n",
    "  '''\n",
    "  sum=0\n",
    "  for a in args:\n",
    "    if type(a)==int or type(a)==float:\n",
    "      sum += a\n",
    "  return sum\n",
    "\n",
    "def main()->None:\n",
    "  '''\n",
    "  This is the main function from where code start execution.\n",
    "  '''\n",
    "  s = adder(1, 2, True, 9, \"mango\", 5.0)\n",
    "  print(\"Sum  = \", s)\n",
    "\n",
    "main()\n",
    "\n",
    "__author__      = \"Vikas Prajapati\"\n",
    "__copyright__   = \"Copyright 2023, CDAC-PGDBDA, Bangalore\""
   ]
  },
  {
   "cell_type": "markdown",
   "metadata": {
    "id": "0o8lvqINV5XM"
   },
   "source": [
    "### Assignment 2.8\n",
    "Write a program to create a recursion function to calculatore the sum of all the numbers from 1 to n.\n",
    "Pass value of n to the function by accepting it form the user."
   ]
  },
  {
   "cell_type": "code",
   "execution_count": null,
   "metadata": {
    "colab": {
     "base_uri": "https://localhost:8080/"
    },
    "id": "iIDYfMwJXk_B",
    "outputId": "b392927e-e18a-479c-e8cc-5f0f136eb2bf"
   },
   "outputs": [
    {
     "name": "stdout",
     "output_type": "stream",
     "text": [
      "Enter a number : 89\n",
      "Sum =  4005\n"
     ]
    }
   ],
   "source": [
    "def recursion(n:int or float)->int:\n",
    "  '''\n",
    "    Add all the numbers form 1 to n.\n",
    "    Args:\n",
    "      n (int) : Ending of series.\n",
    "    Returns:\n",
    "      s (int) : Sum of all numbers.\n",
    "    Raises:\n",
    "      TypeError: '<=' not supported between instances of 'str' and 'int'\n",
    "      AnyError: If anything bad happen.\n",
    "  '''\n",
    "  if n <= 1:\n",
    "    return 1\n",
    "  else:\n",
    "    return (n+recursion(n-1))\n",
    "\n",
    "def main()->None:\n",
    "  '''\n",
    "    The code execution start from main() function.\n",
    "  '''\n",
    "  n = int(input(\"Enter a number : \"))\n",
    "  s = recursion(n)\n",
    "  print(\"Sum = \", s)\n",
    "\n",
    "main()\n",
    "\n",
    "\n",
    "__author__      = \"Vikas Prajapati\"\n",
    "__copyright__   = \"Copyright 2023, CDAC-PGDBDA, Bangalore\""
   ]
  },
  {
   "cell_type": "markdown",
   "metadata": {
    "id": "aL_6YslDhLjC"
   },
   "source": [
    "### Assignment 2.9\n",
    "Write a function centered_average(),in a module, that returns the \"centered\"\n",
    "average of a list of integers. Centered average is the average of the values\n",
    "ignoring the largest and smallest values in the list. If there are multiple copies of\n",
    "the smallest value, ignore just one copy, and likewise for the largest value. Input\n",
    "list should be of length 3 or more. Import this function from the module and call it\n",
    "in the jupyter notebook.\n",
    "\n",
    "centered_average([1, 2, 3, 4, 100]) → 3\n",
    "centered_average([1, 1, 5, 5, 10, 8, 7]) → 5\n",
    "centered_average([-10, -4, -2, -4, -2, 0]) → -3"
   ]
  },
  {
   "cell_type": "code",
   "execution_count": 33,
   "metadata": {
    "id": "hgPx-4FMhs5l",
    "tags": []
   },
   "outputs": [
    {
     "name": "stdout",
     "output_type": "stream",
     "text": [
      "Centered Average :  4.0\n"
     ]
    }
   ],
   "source": [
    "def centered_average(lst : list)->float:\n",
    "    '''\n",
    "    This function take a list.\n",
    "    \n",
    "    Args:\n",
    "        lst (list) : list of int or float\n",
    "    Returns:\n",
    "        avg (float) : centered_average of list\n",
    "    Raises:\n",
    "        TypeError: '<' not supported between instances of 'str' and 'int'\n",
    "        AnyError: If anything bad happen.\n",
    "    '''\n",
    "    mn = min(lst)\n",
    "    mx = max(lst)\n",
    "    lst.remove(mn)\n",
    "    lst.remove(mx)\n",
    "    for x in lst:\n",
    "        if lst.count(x) >= 2 :\n",
    "            lst.remove(x)\n",
    "    avg = sum(lst)/len(lst)\n",
    "    return avg\n",
    "  \n",
    "def main()->None:\n",
    "    '''\n",
    "    This is the main function and code execution start from here.\n",
    "    '''\n",
    "    lst1 = [x for x in range(1, 7)]\n",
    "    lst2 = [x for x in range(2, 10, 2)]\n",
    "    lst = lst1+lst2\n",
    "    \n",
    "    result = centered_average(lst)\n",
    "    print(\"Centered Average : \", result)\n",
    "\n",
    "\n",
    "main()\n",
    "\n",
    "\n",
    "__author__      = \"Vikas Prajapati\"\n",
    "__copyright__   = \"Copyright 2023, CDAC-PGDBDA, Bangalore\""
   ]
  }
 ],
 "metadata": {
  "colab": {
   "provenance": [],
   "toc_visible": true
  },
  "kernelspec": {
   "display_name": "Python 3 (ipykernel)",
   "language": "python",
   "name": "python3"
  },
  "language_info": {
   "codemirror_mode": {
    "name": "ipython",
    "version": 3
   },
   "file_extension": ".py",
   "mimetype": "text/x-python",
   "name": "python",
   "nbconvert_exporter": "python",
   "pygments_lexer": "ipython3",
   "version": "3.9.16"
  }
 },
 "nbformat": 4,
 "nbformat_minor": 4
}
