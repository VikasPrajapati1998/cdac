{
 "cells": [
  {
   "cell_type": "markdown",
   "id": "3bd6e2c1-2f64-47ce-85d2-d604569f5726",
   "metadata": {},
   "source": [
    "# Assignment 1"
   ]
  },
  {
   "cell_type": "markdown",
   "id": "86492fbd-a9cd-4600-837a-370a3cb154f8",
   "metadata": {
    "tags": []
   },
   "source": [
    "## Assignment 1.1\n",
    "WAP which accepts the radius of a circle from the user and compute its area and circumference and display the output."
   ]
  },
  {
   "cell_type": "code",
   "execution_count": 4,
   "id": "9680d24c-80f3-4679-8b00-27ea349cce52",
   "metadata": {
    "tags": []
   },
   "outputs": [
    {
     "name": "stdin",
     "output_type": "stream",
     "text": [
      "Enter a radius :  7.32\n"
     ]
    },
    {
     "name": "stdout",
     "output_type": "stream",
     "text": [
      "Area of circle =  168.24873600000004\n",
      "Circumference of circle =  45.96960000000001\n"
     ]
    }
   ],
   "source": [
    "r = float(input(\"Enter a radius : \"))\n",
    "PI = 3.14; c = 2*PI*r; a = PI*r*r;\n",
    "print(\"Area of circle = \", a);\n",
    "print(\"Circumference of circle = \", c)\n",
    "\n",
    "\n",
    "__author__      = \"Vikas Prajapati\"\n",
    "__copyright__   = \"Copyright 2023, CDAC-PGDBDA, Bangalore\""
   ]
  },
  {
   "cell_type": "markdown",
   "id": "6207cbb6-f0d7-4067-b399-cbb78b19c0b3",
   "metadata": {},
   "source": [
    "## Assignment 1.2\n",
    "WAP to find wheather a given number (accept number from the user) is even or odd, print out an appropriate message to the user.\n",
    "If the number is even, print its square and if the number is odd, print its cube."
   ]
  },
  {
   "cell_type": "code",
   "execution_count": 7,
   "id": "e1174417-aedd-4fe0-9b18-f0960b7ba5cf",
   "metadata": {
    "tags": []
   },
   "outputs": [
    {
     "name": "stdin",
     "output_type": "stream",
     "text": [
      "Enter a number :  3\n"
     ]
    },
    {
     "name": "stdout",
     "output_type": "stream",
     "text": [
      "Cube of number =  27\n"
     ]
    }
   ],
   "source": [
    "num = int(input(\"Enter a number : \"))\n",
    "if(num%2==0):\n",
    "    print(\"Squire of number = \", num*num)\n",
    "else:\n",
    "    print(\"Cube of number = \", num*num*num)\n",
    "\n",
    "    \n",
    "    \n",
    "__author__      = \"Vikas Prajapati\"\n",
    "__copyright__   = \"Copyright 2023, CDAC-PGDBDA, Bangalore\""
   ]
  },
  {
   "cell_type": "markdown",
   "id": "0cb15989-535b-499c-a084-1a272e22dfc5",
   "metadata": {},
   "source": [
    "## Assignment 1.3\n",
    "WAP to test whether a passed letter is a vowel or not. (Accept letter from the user)\n"
   ]
  },
  {
   "cell_type": "code",
   "execution_count": 17,
   "id": "5bcd5d60-b156-4332-a25f-9035d4e0b7ed",
   "metadata": {
    "tags": []
   },
   "outputs": [
    {
     "name": "stdin",
     "output_type": "stream",
     "text": [
      "Enter a letter :  d\n"
     ]
    },
    {
     "name": "stdout",
     "output_type": "stream",
     "text": [
      "Not Vowel =  d\n"
     ]
    }
   ],
   "source": [
    "var = input(\"Enter a letter : \")\n",
    "var = var.lower()\n",
    "tpl = ('a', 'e', 'i', 'o', 'u', 'A', 'E', 'I', 'O' 'U')\n",
    "if(var in tpl):\n",
    "    print(\"Vowel = \", var)\n",
    "else:\n",
    "    print(\"Not Vowel = \", var)\n",
    "    \n",
    "\n",
    "    \n",
    "__author__      = \"Vikas Prajapati\"\n",
    "__copyright__   = \"Copyright 2023, CDAC-PGDBDA, Bangalore\"\n"
   ]
  },
  {
   "cell_type": "markdown",
   "id": "a53d7c0c-7500-4fde-869f-885062f3f325",
   "metadata": {},
   "source": [
    "## Assignment 1.4\n",
    "WAP to implement a simple calculator that can add, subtract, multiply and divide two integers. Take the required operation as choice from the user.\n"
   ]
  },
  {
   "cell_type": "code",
   "execution_count": 12,
   "id": "a357d944-ad71-4f9a-bd3d-f7478bbe351f",
   "metadata": {
    "tags": []
   },
   "outputs": [
    {
     "name": "stdout",
     "output_type": "stream",
     "text": [
      "You can choose any one choice : \n",
      "Choices : \n",
      "\n",
      "Addition : +\n",
      "Substraction : -\n",
      "Multiplication : *\n",
      "Division : /\n",
      "Remainder : %\n",
      "Exponential : **\n",
      "\n"
     ]
    },
    {
     "name": "stdin",
     "output_type": "stream",
     "text": [
      "Enter a number :  4\n",
      "Enter b number :  5\n",
      "Enter choice :  +\n"
     ]
    },
    {
     "name": "stdout",
     "output_type": "stream",
     "text": [
      "Addition =  9.0\n"
     ]
    }
   ],
   "source": [
    "print(\"You can choose any one choice : \")\n",
    "print(\"Choices : \")\n",
    "choice = \"\"\"\n",
    "Addition : +\n",
    "Substraction : -\n",
    "Multiplication : *\n",
    "Division : /\n",
    "Remainder : %\n",
    "Exponential : **\n",
    "\"\"\"\n",
    "print(choice)\n",
    "\n",
    "a = float(input(\"Enter a number : \"))\n",
    "b = float(input(\"Enter b number : \"))\n",
    "ch = input(\"Enter choice : \")\n",
    "if(ch=='+'):\n",
    "    print(\"Addition = \", a+b)\n",
    "elif(ch=='-'):\n",
    "    print(\"Substraction = \", a-b)\n",
    "elif(ch=='*'):\n",
    "    print(\"Multiplication = \", a*b)\n",
    "elif(ch=='/'):\n",
    "    print(\"Division = \", a/b)\n",
    "elif(ch=='%'):\n",
    "    print(\"Remainder = \", int(a) % int(b))\n",
    "elif(ch=='-'):\n",
    "    print(\"Exponential = \", int(a) ** int(b))\n",
    "else:\n",
    "    print(\"Invalid\")\n",
    "\n",
    "\n",
    "\n",
    "    \n",
    "__author__      = \"Vikas Prajapati\"\n",
    "__copyright__   = \"Copyright 2023, CDAC-PGDBDA, Bangalore\"\n"
   ]
  },
  {
   "cell_type": "markdown",
   "id": "17ebe17a-688c-4a87-a273-4dd1826a781c",
   "metadata": {},
   "source": [
    "## Assignment 1.5\n",
    "WAP to check wheather a number is a prime number or not."
   ]
  },
  {
   "cell_type": "code",
   "execution_count": 15,
   "id": "0d16f265-387d-4432-bd14-fce09f9e07cd",
   "metadata": {
    "tags": []
   },
   "outputs": [
    {
     "name": "stdin",
     "output_type": "stream",
     "text": [
      "Enter a number :  6\n"
     ]
    },
    {
     "name": "stdout",
     "output_type": "stream",
     "text": [
      "Not Prime Number.\n"
     ]
    }
   ],
   "source": [
    "n = int(input(\"Enter a number : \"))\n",
    "count=0\n",
    "for x in range(2, int(n/2)+1):\n",
    "    if(n%x==0):\n",
    "        count=1\n",
    "if(count==0):\n",
    "    print(\"Prime Number.\")\n",
    "else:\n",
    "    print(\"Not Prime Number.\")\n",
    "\n",
    "    \n",
    "    \n",
    "__author__      = \"Vikas Prajapati\"\n",
    "__copyright__   = \"Copyright 2023, CDAC-PGDBDA, Bangalore\""
   ]
  },
  {
   "cell_type": "markdown",
   "id": "95897a8a-37c3-48d9-85d8-cdf393cf49c2",
   "metadata": {},
   "source": [
    "## Assignment 1.6\n",
    "WAP to remove all the following punctuation/special characters from the given string. !()-[]{};:'\"\\,<>./?@#$%^&*_~"
   ]
  },
  {
   "cell_type": "code",
   "execution_count": 40,
   "id": "e568c7bc-37a2-4054-b26e-f0c7744cbe39",
   "metadata": {
    "tags": []
   },
   "outputs": [
    {
     "name": "stdin",
     "output_type": "stream",
     "text": [
      "Enter a string :  arj!u(n) {praj}:ap;<a>t?i\n"
     ]
    },
    {
     "name": "stdout",
     "output_type": "stream",
     "text": [
      "arjun prajapati\n"
     ]
    }
   ],
   "source": [
    "tpl = ('!', '(', ')', '-', '[', ']', '{', '}', ';', ':', \"'\", '\"', ',', '<', '>', '.', '/', '?', '@', '#', '$', '%', '^', '&', '*', '_', '~')\n",
    "s = input(\"Enter a string : \")\n",
    "for x in s:\n",
    "    if x in tpl:\n",
    "        s = s.replace(x, \"\")\n",
    "\n",
    "print(s)\n",
    "\n",
    "\n",
    "__author__      = \"Vikas Prajapati\"\n",
    "__copyright__   = \"Copyright 2023, CDAC-PGDBDA, Bangalore\""
   ]
  },
  {
   "cell_type": "code",
   "execution_count": 2,
   "id": "2439612d-2ec3-4b98-93fd-3942a5b37f62",
   "metadata": {
    "tags": []
   },
   "outputs": [
    {
     "name": "stdin",
     "output_type": "stream",
     "text": [
      "Enter a string :  arj(u)n\n"
     ]
    },
    {
     "name": "stdout",
     "output_type": "stream",
     "text": [
      "arjun\n"
     ]
    }
   ],
   "source": [
    "char = '''!()-[]{};:'\"\\,<>./?@#$%^&*_~'''\n",
    "s = input(\"Enter a string : \")\n",
    "for x in s:\n",
    "    if x in char:\n",
    "        s = s.replace(x, \"\")\n",
    "\n",
    "print(s)\n",
    "\n",
    "\n",
    "__author__      = \"Vikas Prajapati\"\n",
    "__copyright__   = \"Copyright 2023, CDAC-PGDBDA, Bangalore\""
   ]
  },
  {
   "cell_type": "markdown",
   "id": "5824764e-9a5b-465f-bb6d-9ea616eb2db5",
   "metadata": {},
   "source": [
    "## Assignment 1.7\n",
    "WAP to accept a filename from the user and print the extenstion of that."
   ]
  },
  {
   "cell_type": "code",
   "execution_count": 4,
   "id": "a5c3e0b7-22b5-4583-995e-4eca6749080c",
   "metadata": {
    "tags": []
   },
   "outputs": [
    {
     "name": "stdin",
     "output_type": "stream",
     "text": [
      "Enter file name :  attendance.xlsx\n"
     ]
    },
    {
     "name": "stdout",
     "output_type": "stream",
     "text": [
      "xlsx\n"
     ]
    }
   ],
   "source": [
    "f = input(\"Enter file name : \")\n",
    "f = f.split('.')\n",
    "print(f[-1])\n",
    "\n",
    "\n",
    "__author__      = \"Vikas Prajapati\"\n",
    "__copyright__   = \"Copyright 2023, CDAC-PGDBDA, Bangalore\""
   ]
  },
  {
   "cell_type": "markdown",
   "id": "8dfd0848-e8a3-4636-922f-82845608271a",
   "metadata": {},
   "source": [
    "## Assignment 1.8\n",
    "WAP to print all the even number from the numbers list given below in the same order and stop the printing if any numbers that come after 449 in the sequence."
   ]
  },
  {
   "cell_type": "code",
   "execution_count": 46,
   "id": "61b5b71b-4a88-4e60-b8dd-46a656c1b29d",
   "metadata": {
    "tags": []
   },
   "outputs": [
    {
     "name": "stdout",
     "output_type": "stream",
     "text": [
      "[1386, 462, 418, 344, 236, 566, 978, 328, 1390, 162, 758, 918, 412, 566]\n"
     ]
    }
   ],
   "source": [
    "number = [1386, 462, 47, 418, 907, 344, 236, 375, 823, 566, 597, 978, 328, 615, 953, 345, 1390, 162, 758, 219, 918, 237, 412, 566, 449, 248, 866, 950, 626, 949, 687, 217, 815, 67, 104, 58, 512, 24]\n",
    "lst = []\n",
    "for x in number:\n",
    "    if x==449:\n",
    "        break\n",
    "    if(x%2==0):\n",
    "        lst.append(x)\n",
    "print(lst)\n",
    "\n",
    "\n",
    "__author__      = \"Vikas Prajapati\"\n",
    "__copyright__   = \"Copyright 2023, CDAC-PGDBDA, Bangalore\""
   ]
  },
  {
   "cell_type": "markdown",
   "id": "6d8808bd-18f9-4dd2-b266-ba9c94a72c1d",
   "metadata": {},
   "source": [
    "## Assignment 1.9\n",
    "WAP to print all the colors from color_list_1 which are not present in color_list_2\n"
   ]
  },
  {
   "cell_type": "code",
   "execution_count": 47,
   "id": "1596b02e-ed89-4ff5-8bb1-f0d64b927215",
   "metadata": {
    "tags": []
   },
   "outputs": [
    {
     "name": "stdout",
     "output_type": "stream",
     "text": [
      "White\n",
      "Black\n"
     ]
    }
   ],
   "source": [
    "color_list_1 = [\"White\", \"Black\", \"Red\"]\n",
    "color_list_2 = [\"Red\", \"Green\"]\n",
    "for x in color_list_1:\n",
    "    if x not in color_list_2:\n",
    "        print(x)\n",
    "\n",
    "        \n",
    "__author__      = \"Vikas Prajapati\"\n",
    "__copyright__   = \"Copyright 2023, CDAC-PGDBDA, Bangalore\""
   ]
  },
  {
   "cell_type": "markdown",
   "id": "7d9af506-ed29-45f9-bbca-f4291fc3b9fb",
   "metadata": {},
   "source": [
    "## Assignment 1.10\n",
    "WAP that maps a list of words into a list of integers reperesenting the lengths of the corresponding words."
   ]
  },
  {
   "cell_type": "code",
   "execution_count": 51,
   "id": "63131407-601f-4f67-b2e1-7e9782bda7f3",
   "metadata": {
    "tags": []
   },
   "outputs": [
    {
     "name": "stdin",
     "output_type": "stream",
     "text": [
      "Enter a word :  arjun\n",
      "Enter a word :  sudhanshu\n",
      "Enter a word :  madhvi\n",
      "Enter a word :  rohan\n",
      "Enter a word :  sanu\n",
      "Enter a word :  akash\n",
      "Enter a word :  rishi\n",
      "Enter a word :  \n"
     ]
    },
    {
     "name": "stdout",
     "output_type": "stream",
     "text": [
      "list of words =  ['arjun', 'sudhanshu', 'madhvi', 'rohan', 'sanu', 'akash', 'rishi']\n",
      "list of integers =  [5, 9, 6, 5, 4, 5, 5]\n"
     ]
    }
   ],
   "source": [
    "list_of_words = []\n",
    "list_of_integers = []\n",
    "var = input(\"Enter a word : \")\n",
    "while var!=\"\":\n",
    "    list_of_words.append(var);\n",
    "    var = input(\"Enter a word : \")\n",
    "\n",
    "for x in list_of_words:\n",
    "    list_of_integers.append(len(x))\n",
    "\n",
    "print(\"list of words = \", list_of_words)\n",
    "print(\"list of integers = \", list_of_integers)\n",
    "\n",
    "\n",
    "\n",
    "__author__      = \"Vikas Prajapati\"\n",
    "__copyright__   = \"Copyright 2023, CDAC-PGDBDA, Bangalore\""
   ]
  },
  {
   "cell_type": "markdown",
   "id": "463a2ddb-7d97-46ae-a5a9-21efab102038",
   "metadata": {
    "tags": []
   },
   "source": [
    "## Assignment 1.11 \n",
    "WAP that takes a phrase as a user input and then prints the corresponding acronym."
   ]
  },
  {
   "cell_type": "code",
   "execution_count": 41,
   "id": "ad3640ef-ae6b-4e9d-9f0e-22b406ae9902",
   "metadata": {
    "tags": []
   },
   "outputs": [
    {
     "name": "stdin",
     "output_type": "stream",
     "text": [
      "Enter a Phrase:  vikas prajapati\n"
     ]
    },
    {
     "name": "stdout",
     "output_type": "stream",
     "text": [
      "VP\n"
     ]
    }
   ],
   "source": [
    "ph = input(\"Enter a Phrase: \")\n",
    "ac = \"\"\n",
    "for w in ph.split():\n",
    "    ac += w[0].upper()\n",
    "print(ac)\n",
    "# print(type(ac))\n",
    "\n",
    "\n",
    "__author__      = \"Vikas Prajapati\"\n",
    "__copyright__   = \"Copyright 2023, CDAC-PGDBDA, Bangalore\""
   ]
  },
  {
   "cell_type": "markdown",
   "id": "2e75fb5e-f760-4ba8-854d-fd2e0d7f4682",
   "metadata": {},
   "source": [
    "## Assignment 1.12\n",
    "WAP to read a multi word string and print all the words in alphabetical order."
   ]
  },
  {
   "cell_type": "code",
   "execution_count": 37,
   "id": "21176eaa-282d-4b28-a375-8edeb254df9d",
   "metadata": {
    "tags": []
   },
   "outputs": [
    {
     "name": "stdin",
     "output_type": "stream",
     "text": [
      "Enter a multi-word String:  arjun prajapati kumar sanu rohan borse sudhanshu mishra\n"
     ]
    },
    {
     "name": "stdout",
     "output_type": "stream",
     "text": [
      "Alphabetical Order: ['Arjun', 'Borse', 'Kumar', 'Mishra', 'Prajapati', 'Rohan', 'Sanu', 'Sudhanshu']\n"
     ]
    }
   ],
   "source": [
    "string = input(\"Enter a multi-word String: \")\n",
    "word = string.split()\n",
    "wlist = []\n",
    "# print(type(word))\n",
    "for w in word:\n",
    "    w = w.capitalize()\n",
    "    wlist.append(w)\n",
    "wlist.sort()\n",
    "print(\"Alphabetical Order:\", wlist)\n",
    "\n",
    "\n",
    "__author__      = \"Vikas Prajapati\"\n",
    "__copyright__   = \"Copyright 2023, CDAC-PGDBDA, Bangalore\""
   ]
  },
  {
   "cell_type": "markdown",
   "id": "28bc53b8-b42e-4667-b49b-850dda66d827",
   "metadata": {},
   "source": [
    "## Assignment 1.13\n",
    "WAP to check whether the given number is a perfect number or not."
   ]
  },
  {
   "cell_type": "code",
   "execution_count": 1,
   "id": "4d3c2a90-6dcd-41df-8a61-00e5a199e82b",
   "metadata": {
    "tags": []
   },
   "outputs": [
    {
     "name": "stdin",
     "output_type": "stream",
     "text": [
      "Enter a number :  9\n"
     ]
    },
    {
     "name": "stdout",
     "output_type": "stream",
     "text": [
      "9  is not a perfect number.\n"
     ]
    }
   ],
   "source": [
    "num = int(input(\"Enter a number : \"))\n",
    "n = num\n",
    "sum = 0\n",
    "while(n > 0):\n",
    "    if(num==n):\n",
    "        n -= 1\n",
    "        continue\n",
    "    elif(num%n==0):\n",
    "        sum += n\n",
    "    n -= 1\n",
    "if(num==sum):\n",
    "    print(num, \" is a perfect number.\")\n",
    "else:\n",
    "    print(num, \" is not a perfect number.\")\n",
    "\n",
    "\n",
    "    \n",
    "__author__      = \"Vikas Prajapati\"\n",
    "__copyright__   = \"Copyright 2023, CDAC-PGDBDA, Bangalore\"\n"
   ]
  },
  {
   "cell_type": "markdown",
   "id": "bf939ea0-cf2e-45e9-9187-e4d2fa94bb80",
   "metadata": {},
   "source": [
    "## Assignment 1.14\n",
    "WAP to check whether a number can be expanded as the sum of two prime numbers."
   ]
  },
  {
   "cell_type": "code",
   "execution_count": 30,
   "id": "4f7f29b0-ec2f-4a14-bf9c-b72949c23120",
   "metadata": {
    "tags": []
   },
   "outputs": [
    {
     "name": "stdin",
     "output_type": "stream",
     "text": [
      "Enter a number :  34\n"
     ]
    },
    {
     "name": "stdout",
     "output_type": "stream",
     "text": [
      "3 31\n",
      "5 29\n",
      "11 23\n",
      "17 17\n",
      "23 11\n",
      "29 5\n",
      "31 3\n"
     ]
    }
   ],
   "source": [
    "# Method 1 - \n",
    "prime_lst = []\n",
    "n = int(input(\"Enter a number : \"))\n",
    "for x in range(2, n):\n",
    "    for y in range(2, x):\n",
    "        if x%y == 0:\n",
    "            break\n",
    "    else:\n",
    "        prime_lst.append(x)\n",
    "\n",
    "for i in prime_lst:\n",
    "    for j in prime_lst:\n",
    "        if i+j == n : \n",
    "            print(i, j)\n",
    "            \n",
    "            \n",
    "__author__      = \"Vikas Prajapati\"\n",
    "__copyright__   = \"Copyright 2023, CDAC-PGDBDA, Bangalore\""
   ]
  },
  {
   "cell_type": "code",
   "execution_count": 32,
   "id": "18b0b427-6773-4375-a68e-ecbfe7774858",
   "metadata": {},
   "outputs": [
    {
     "name": "stdin",
     "output_type": "stream",
     "text": [
      "Enter a number :  34\n"
     ]
    },
    {
     "name": "stdout",
     "output_type": "stream",
     "text": [
      "3 31\n",
      "5 29\n",
      "11 23\n",
      "17 17\n",
      "23 11\n",
      "29 5\n",
      "31 3\n"
     ]
    }
   ],
   "source": [
    "# Method 2 - \n",
    "n = int(input(\"Enter a number : \"))\n",
    "for x in range(2, n):\n",
    "    for y in range(2, x):\n",
    "        if x%y == 0:\n",
    "            break\n",
    "    else:\n",
    "        for z in range(2, n-x):\n",
    "            if (n-x)%z == 0:\n",
    "                break\n",
    "        else:\n",
    "            if x + (n-x) == n:\n",
    "                print(x, n-x)\n",
    "\n",
    "                \n",
    "                \n",
    "__author__      = \"Vikas Prajapati\"\n",
    "__copyright__   = \"Copyright 2023, CDAC-PGDBDA, Bangalore\""
   ]
  }
 ],
 "metadata": {
  "kernelspec": {
   "display_name": "Python 3 (ipykernel)",
   "language": "python",
   "name": "python3"
  },
  "language_info": {
   "codemirror_mode": {
    "name": "ipython",
    "version": 3
   },
   "file_extension": ".py",
   "mimetype": "text/x-python",
   "name": "python",
   "nbconvert_exporter": "python",
   "pygments_lexer": "ipython3",
   "version": "3.9.16"
  }
 },
 "nbformat": 4,
 "nbformat_minor": 5
}
