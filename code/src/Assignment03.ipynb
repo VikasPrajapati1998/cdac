{
 "cells": [
  {
   "cell_type": "markdown",
   "id": "407ef0fd-1971-4b01-aad0-09e3bae63f26",
   "metadata": {},
   "source": [
    "# Assignment 3"
   ]
  },
  {
   "cell_type": "markdown",
   "id": "85f8f599-048f-422c-a9a6-f127661fbc48",
   "metadata": {},
   "source": [
    "### Assignment 3.1\n",
    "Read the given file rhyme.txt and display lines from it in lower case."
   ]
  },
  {
   "cell_type": "code",
   "execution_count": 19,
   "id": "8594755a-5989-4588-a24c-52f0156ba99d",
   "metadata": {
    "tags": []
   },
   "outputs": [
    {
     "name": "stdout",
     "output_type": "stream",
     "text": [
      "BAA, BAA, BLACK SHEEP,\n",
      "HAVE YOU ANY WOOL?\n",
      "YES, SIR, YES, SIR,\n",
      "THREE BAGS FULL;\n",
      "ONE FOR THE MASTER,\n",
      "AND ONE FOR THE DAME,\n",
      "AND ONE FOR THE LITTLE BOY\n",
      "WHO LIVES DOWN THE LANE.\n",
      "\n"
     ]
    }
   ],
   "source": [
    "with open(\"../data/rhyme.txt\", 'r') as fp:\n",
    "    msg = fp.read()\n",
    "    print(msg)\n",
    "\n",
    "\n",
    "    \n",
    "__author__      = \"Vikas Prajapati\"\n",
    "__copyright__   = \"Copyright 2023, CDAC-PGDBDA, Bangalore\""
   ]
  },
  {
   "cell_type": "markdown",
   "id": "3c47ff10-1a94-4105-9b06-ba980401decd",
   "metadata": {},
   "source": [
    "### Assignment 3.2\n",
    "Write a function to accept Shipping Address from the User with following fields:\n",
    "I. First Name\n",
    "II. Last Name\n",
    "III. Address Line 1\n",
    "IV. Address Line 2\n",
    "V. City\n",
    "VI. State\n",
    "VII. Pin Code\n",
    "Save all shipping addresses in a file named address.txt."
   ]
  },
  {
   "cell_type": "code",
   "execution_count": 20,
   "id": "488c4f93-4c7f-4c94-86ee-7c93c4374ad8",
   "metadata": {
    "tags": []
   },
   "outputs": [
    {
     "name": "stdout",
     "output_type": "stream",
     "text": [
      "Enter Shipping Address : \n"
     ]
    },
    {
     "name": "stdin",
     "output_type": "stream",
     "text": [
      "First Name :  Rutuja\n",
      "Last Name :  Dhamdhere\n",
      "Address Line 1 :  Girls Hostel, CDAC-Bangalore\n",
      "Address Line 2 :  Electronic City\n",
      "City :  Bangalore\n",
      "State :  Karnatak\n",
      "Pin :  560100\n"
     ]
    }
   ],
   "source": [
    "def shippingAddress():\n",
    "    '''\n",
    "    This function takes shipping address and store it into file.\n",
    "    \n",
    "    Args: None\n",
    "    Returns: None\n",
    "    Raises: \n",
    "        AnyError : If anything bad happen.\n",
    "    '''\n",
    "    \n",
    "    print(\"Enter Shipping Address : \")\n",
    "    fname = input(\"First Name : \")\n",
    "    lname = input(\"Last Name : \")\n",
    "    addLine1 = input(\"Address Line 1 : \")\n",
    "    addLine2 = input(\"Address Line 2 : \")\n",
    "    city = input(\"City : \")\n",
    "    state = input(\"State : \")\n",
    "    pin = int(input(\"Pin : \"))\n",
    "    \n",
    "    detail =\"Shipping Address : \" + \"\\n\" \\\n",
    "            \"First Name : \" + fname + \"\\n\" \\\n",
    "            \"Last Name : \" + lname + \"\\n\" \\\n",
    "            \"Address Line 1 : \" + addLine1 + \"\\n\" \\\n",
    "            \"Address Line 2 : \" + addLine2 + \"\\n\" \\\n",
    "            \"City : \" + city + \"\\n\" \\\n",
    "            \"State : \" + state + \"\\n\" \\\n",
    "            \"PIN : \" + str(pin) + \"\\n\"\n",
    "    \n",
    "    with open(\"../data/address.txt\", 'a') as file:\n",
    "        file.write(detail)\n",
    "\n",
    "shippingAddress()\n",
    "\n",
    "\n",
    "__author__      = \"Vikas Prajapati\"\n",
    "__copyright__   = \"Copyright 2023, CDAC-PGDBDA, Bangalore\""
   ]
  },
  {
   "cell_type": "markdown",
   "id": "5864f49b-b4c1-4be8-b08f-a2a2f6d6c25b",
   "metadata": {
    "tags": []
   },
   "source": [
    "### Assignment 3.3\n",
    "After accepting Shipping address from user (previous question continued) ask\n",
    "user whether the billing address is same as shipping address, if not, accept\n",
    "billing address from the user with the same fields as mentioned above. Now\n",
    "save these both addresses in the same file with appropriate titles. If we run this\n",
    "code multiple times all the addresses must be saved in the same file."
   ]
  },
  {
   "cell_type": "code",
   "execution_count": 21,
   "id": "5e3615d5-99bd-4622-bc73-e38955a364b1",
   "metadata": {
    "tags": []
   },
   "outputs": [
    {
     "name": "stdin",
     "output_type": "stream",
     "text": [
      "Is the billing address is same as shipping address :  yes\n"
     ]
    },
    {
     "name": "stdout",
     "output_type": "stream",
     "text": [
      "Shipping Address and Billing Address both are same.\n"
     ]
    }
   ],
   "source": [
    "def billingAddress():\n",
    "    '''\n",
    "    This function takes billing address and store it into file.\n",
    "    \n",
    "    Args: None\n",
    "    Returns: None\n",
    "    Raises: \n",
    "        AnyError : If anything bad happen.\n",
    "    '''\n",
    "    print(\"Enter Billing Address : \")\n",
    "    fname = input(\"First Name : \")\n",
    "    lname = input(\"Last Name : \")\n",
    "    addLine1 = input(\"Address Line 1 : \")\n",
    "    addLine2 = input(\"Address Line 2 : \")\n",
    "    city = input(\"City : \")\n",
    "    state = input(\"State : \")\n",
    "    pin = int(input(\"Pin : \"))\n",
    "    \n",
    "    detail =\"Billing Address : \" + \"\\n\" \\\n",
    "            \"First Name : \" + fname + \"\\n\" \\\n",
    "            \"Last Name : \" + lname + \"\\n\" \\\n",
    "            \"Address Line 1 : \" + addLine1 + \"\\n\" \\\n",
    "            \"Address Line 2 : \" + addLine2 + \"\\n\" \\\n",
    "            \"City : \" + city + \"\\n\" \\\n",
    "            \"State : \" + state + \"\\n\" \\\n",
    "            \"PIN : \" + str(pin) + \"\\n\"\n",
    "    \n",
    "    with open(\"../data/address.txt\", 'a') as fp:\n",
    "        fp.write(detail)\n",
    "\n",
    "def main():\n",
    "    '''\n",
    "    This is the main function from where code execution start.\n",
    "    Args: None\n",
    "    Returns: None\n",
    "    Raises: \n",
    "        AnyError : If anything bad happens.\n",
    "    '''\n",
    "    ch = input(\"Is the billing address is same as shipping address : \")\n",
    "    yes = [\"y\", \"yes\", \"Y\", \"Yes\", \"YES\"]\n",
    "    if ch not in yes:\n",
    "        billingAddress()\n",
    "    else:\n",
    "        print(\"Shipping Address and Billing Address both are same.\")\n",
    "\n",
    "main()\n",
    "\n",
    "\n",
    "\n",
    "__author__      = \"Vikas Prajapati\"\n",
    "__copyright__   = \"Copyright 2023, CDAC-PGDBDA, Bangalore\""
   ]
  },
  {
   "cell_type": "markdown",
   "id": "81d1247b-b79c-4d69-adb6-0e14b8a7e85b",
   "metadata": {},
   "source": [
    "### Assignment 3.4\n",
    "Write a function called reduce_whitespace(), in a module named\n",
    "string_operations, that returns the line with all extra whitespace characters\n",
    "between words replaced with single space.\n",
    "C-DAC ACTS Bengaluru DBDA Mar 2023\n",
    "Read the given file white_spaces.txt and apply this function,\n",
    "reduce_whitespace(), by importing from module, on all the lines in the file,\n",
    "one by one, and then save these lines in a new file."
   ]
  },
  {
   "cell_type": "code",
   "execution_count": 22,
   "id": "a48e2024-5469-436e-8449-c4f8a2052873",
   "metadata": {
    "tags": []
   },
   "outputs": [
    {
     "name": "stdout",
     "output_type": "stream",
     "text": [
      "The best way to get started is to quit talking and begin doing.\n",
      "Don't let yesterday take up too much of today.\n",
      "You learn more from failure than from success. Don't let it stop you.\n",
      "It's not whether you get knocked down, it's whether you get up.\n",
      "We generate fears while we sit. We overcome them by action.\n"
     ]
    }
   ],
   "source": [
    "def reduce_whitespace():\n",
    "    '''\n",
    "    Function remove the extra whitespaces between words.\n",
    "    Args: None\n",
    "    Returns: None\n",
    "    Raises: \n",
    "        AnyError : If anything bad happend.\n",
    "    '''\n",
    "    with open(\"../data/white_spaces.txt\", 'r') as file:\n",
    "        while True:\n",
    "            line = file.readline()\n",
    "            if line=='':\n",
    "                break\n",
    "            print(*(line.split()))\n",
    "\n",
    "reduce_whitespace()\n",
    "\n",
    "\n",
    "__author__      = \"Vikas Prajapati\"\n",
    "__copyright__   = \"Copyright 2023, CDAC-PGDBDA, Bangalore\""
   ]
  },
  {
   "cell_type": "markdown",
   "id": "879287d8-7958-4da1-a880-2aa8ba4ede00",
   "metadata": {
    "tags": []
   },
   "source": [
    "### Assignment 3.5\n",
    "LUCKY WINNER: Write a function, to select a random name from the file\n",
    "students.txt. Each time we call this function, the name & roll number should\n",
    "be displayed without repetition."
   ]
  },
  {
   "cell_type": "code",
   "execution_count": 28,
   "id": "cb786de9-5919-4134-8029-64ca7fcacfc3",
   "metadata": {
    "tags": []
   },
   "outputs": [
    {
     "name": "stdout",
     "output_type": "stream",
     "text": [
      "230350125033 \t KUMAR SANU \n",
      "\n"
     ]
    }
   ],
   "source": [
    "import random\n",
    "def lucky_number():\n",
    "    '''\n",
    "    Select a student from the students.txt and print its data.\n",
    "    \n",
    "    Args: None\n",
    "    Returns: None\n",
    "    Raises:\n",
    "        AnyError : If anything bad happen.\n",
    "    '''\n",
    "    prn = \"2303501250\"\n",
    "    # 230350125001\n",
    "    rn = random.randint(1, 90)\n",
    "    if rn>=1 and rn<=9 :\n",
    "        number = prn + \"0\" + str(rn)\n",
    "    else:\n",
    "        number = prn + str(rn)\n",
    "    \n",
    "    with open(\"../data/students.txt\", 'r') as file:\n",
    "        line = file.readline().split(\",\")\n",
    "        while line[0] != number:\n",
    "            line = file.readline().split(\",\")\n",
    "        print(line[0], \"\\t\",line[1])\n",
    "\n",
    "\n",
    "lucky_number()\n",
    "\n",
    "\n",
    "__author__      = \"Vikas Prajapati\"\n",
    "__copyright__   = \"Copyright 2023, CDAC-PGDBDA, Bangalore\""
   ]
  },
  {
   "cell_type": "markdown",
   "id": "ebe917c9-ce80-435b-8b51-fd08376d8268",
   "metadata": {},
   "source": [
    "### Assignment 3.6\n",
    "File movies_data.txt contains data about movies. Each line of this file\n",
    "contains data for 1 movie. Data is in following format:\n",
    "movie_id::movie_name (release_rear)::genres\n",
    "If movie falls in more than one genre then those are separated by “|”.\n",
    "E.g.: Comedy|Drama|Romance\n",
    "Based on the data in this file answer the following questions:\n",
    "a) Find the number of movies released every year in a dictionary.\n",
    "Sample output: {'1923': 3, '1930': 7, '1957': 20…}\n",
    "b) Find the total number of movie names starting with T or J.\n",
    "c) How many comedy movies were released in 1995?\n",
    "d) How many action movies were released in 1993?\n",
    "e) How many Batman movies are present in the file?"
   ]
  },
  {
   "cell_type": "code",
   "execution_count": 120,
   "id": "6a267136-5d8b-419e-b81e-6984de305233",
   "metadata": {
    "tags": []
   },
   "outputs": [
    {
     "name": "stdout",
     "output_type": "stream",
     "text": [
      "{1919: 3, 1920: 2, 1921: 1, 1922: 2, 1923: 3, 1925: 6, 1926: 8, 1927: 6, 1928: 3, 1929: 3, 1930: 7, 1931: 7, 1932: 7, 1933: 7, 1934: 7, 1935: 6, 1936: 8, 1937: 11, 1938: 6, 1939: 11, 1940: 19, 1941: 11, 1942: 13, 1943: 10, 1944: 13, 1945: 11, 1946: 13, 1947: 14, 1948: 12, 1949: 10, 1950: 14, 1951: 12, 1952: 11, 1953: 14, 1954: 15, 1955: 19, 1956: 19, 1957: 20, 1958: 22, 1959: 22, 1960: 15, 1961: 19, 1962: 20, 1963: 25, 1964: 16, 1965: 20, 1966: 12, 1967: 24, 1968: 22, 1969: 18, 1970: 16, 1971: 26, 1972: 22, 1973: 29, 1974: 28, 1975: 21, 1976: 21, 1977: 22, 1978: 30, 1979: 32, 1980: 41, 1981: 43, 1982: 50, 1983: 35, 1984: 60, 1985: 65, 1986: 104, 1987: 71, 1988: 69, 1989: 60, 1990: 77, 1991: 60, 1992: 102, 1993: 165, 1994: 257, 1995: 342, 1996: 345, 1997: 315, 1998: 337, 1999: 283, 2000: 156}\n",
      "\n",
      "Total Number of movies start with 'T' or 'J' :  304\n",
      "\n",
      "Total Comedy movies released in 1995 :  89\n",
      "\n",
      "Total Action movies released in 1993 :  25\n",
      "\n",
      "Total number of movies of Batman :  5\n",
      "\n"
     ]
    }
   ],
   "source": [
    "from movies import movies as mve\n",
    "\n",
    "def main():\n",
    "    '''\n",
    "    Program execution start from here.\n",
    "    Args: None\n",
    "    Returns: None\n",
    "    Raises: \n",
    "        AnyError: If anything bad happen.\n",
    "    '''\n",
    "    year_movie = mve.get_year_dict()\n",
    "    print(year_movie)\n",
    "    print()\n",
    "    \n",
    "    countTJ = mve.movie_names()\n",
    "    print(\"Total Number of movies start with 'T' or 'J' : \", countTJ)\n",
    "    print()\n",
    "    \n",
    "    comedy_action = mve.count_movies()\n",
    "    print(\"Total Comedy movies released in 1995 : \", comedy_action[0])\n",
    "    print()\n",
    "    print(\"Total Action movies released in 1993 : \", comedy_action[1])\n",
    "    print()\n",
    "    \n",
    "    count = mve.Batman_movies()\n",
    "    print(\"Total number of movies of Batman : \", count)\n",
    "    print()\n",
    "\n",
    "main()\n",
    "\n",
    "\n",
    "\n",
    "\n",
    "\n",
    "\n",
    "__author__      = \"Vikas Prajapati\"\n",
    "__copyright__   = \"Copyright 2023, CDAC-PGDBDA, Bangalore\""
   ]
  },
  {
   "cell_type": "code",
   "execution_count": null,
   "id": "bf2131d0-d2f0-4ba6-88ab-efef311cd0d3",
   "metadata": {
    "tags": []
   },
   "outputs": [],
   "source": []
  }
 ],
 "metadata": {
  "kernelspec": {
   "display_name": "Python 3 (ipykernel)",
   "language": "python",
   "name": "python3"
  },
  "language_info": {
   "codemirror_mode": {
    "name": "ipython",
    "version": 3
   },
   "file_extension": ".py",
   "mimetype": "text/x-python",
   "name": "python",
   "nbconvert_exporter": "python",
   "pygments_lexer": "ipython3",
   "version": "3.9.16"
  }
 },
 "nbformat": 4,
 "nbformat_minor": 5
}
